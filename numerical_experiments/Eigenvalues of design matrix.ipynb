{
 "cells": [
  {
   "cell_type": "markdown",
   "metadata": {},
   "source": [
    "# Explanation of results for Moore-Penrose inverse when $N = d$"
   ]
  },
  {
   "cell_type": "markdown",
   "metadata": {},
   "source": [
    "Using Singular Value Decomposition (SVD), the Moore Penrose pseudo-inverse of a matrix $A \\in \\mathbb{R}^{d \\times d}$ can be computed as follows.\n",
    "\n",
    "$$\n",
    "A^{-} = V \\Sigma ^{-} U^T,\n",
    "$$\n",
    "\n",
    "where $\\Sigma ^{-}$ is a ${d \\times d}$ diagonal matrix containing the reciprical eigenvalues of $A$, $V \\in \\mathbb{R}^{d \\times d}$ and $U\\in \\mathbb{R}^{d \\times d}$. Note that if there is a zero eigenvalue on the diagonal of $\\Sigma$, then the corresponsing position of $\\Sigma ^{-}$ will be set to zero."
   ]
  },
  {
   "cell_type": "code",
   "execution_count": 3,
   "metadata": {},
   "outputs": [],
   "source": [
    "import numpy as np\n",
    "import est_dir\n",
    "import tqdm\n",
    "import matplotlib.pyplot as plt\n",
    "import matplotlib.ticker as ticker"
   ]
  },
  {
   "cell_type": "code",
   "execution_count": 4,
   "metadata": {},
   "outputs": [],
   "source": [
    "def check_eigs(s):\n",
    "    if np.any(s < 0.0000000001):\n",
    "        rec_s = np.zeros((len(s)))\n",
    "        pos = np.where(s < 0.0000000001)[0]\n",
    "        for j in range(len(s)):\n",
    "            if j in pos:\n",
    "                rec_s[j] = 0\n",
    "            else:\n",
    "                rec_s[j] = 1 / s[j]\n",
    "    else:\n",
    "        rec_s = 1 / s\n",
    "    return rec_s"
   ]
  },
  {
   "cell_type": "code",
   "execution_count": 9,
   "metadata": {},
   "outputs": [],
   "source": [
    "np.random.seed(80)\n",
    "m = 100\n",
    "n_list = [50,100,150]\n",
    "rec_eigs = np.zeros((len(n_list), 10, m+1))\n",
    "max_eig = np.zeros((len(n_list), 10))\n",
    "cond_number = np.zeros((len(n_list), 10))\n",
    "no_vars = m\n",
    "region = 0.1\n",
    "const = 1\n",
    "cov = np.identity((m))\n",
    "lambda_max=1\n",
    "noise_sd = 1\n",
    "f = est_dir.quad_f_noise\n",
    "index = 0\n",
    "for n in n_list:\n",
    "    for j in range(10):\n",
    "        centre_point = np.random.multivariate_normal(np.zeros((m)), cov)\n",
    "        minimizer = np.zeros((m, ))\n",
    "        matrix = est_dir.quad_func_params(1, lambda_max, m)\n",
    "        func_args = (minimizer, matrix, 0, noise_sd)\n",
    "        act_design, y, positions, func_evals = (est_dir.compute_random_design\n",
    "                                                (n, m, centre_point, no_vars,\n",
    "                                                 f, func_args, region))\n",
    "        full_act_design = np.ones((act_design.shape[0], act_design.shape[1] + 1))\n",
    "        full_act_design[:, 1:] = act_design\n",
    "        u, s, vh = np.linalg.svd(full_act_design.T @ full_act_design)\n",
    "        assert(np.allclose(full_act_design.T @ full_act_design, (u* s) @ vh))\n",
    "        rec_eigs[index, j] = check_eigs(s)\n",
    "        max_eig[index, j] = np.max(rec_eigs[index, j])\n",
    "        cond_number[index, j] = np.linalg.cond(full_act_design.T @ full_act_design)\n",
    "    index += 1"
   ]
  },
  {
   "cell_type": "code",
   "execution_count": 18,
   "metadata": {},
   "outputs": [
    {
     "data": {
      "text/plain": [
       "array([[  0.00264442,   0.00285645,   0.00293577, ...,  19.50408595,\n",
       "        249.67311904,   0.        ],\n",
       "       [  0.00262276,   0.00277051,   0.0028907 , ...,   6.26155985,\n",
       "          9.34899682,   0.        ],\n",
       "       [  0.00264027,   0.0027214 ,   0.00292024, ...,  15.17038305,\n",
       "         66.77578116,   0.        ],\n",
       "       ...,\n",
       "       [  0.00254388,   0.00266262,   0.00283632, ...,  13.39087558,\n",
       "         20.43004983,   0.        ],\n",
       "       [  0.00273341,   0.00291741,   0.00301838, ...,  32.88199305,\n",
       "         53.82548286,   0.        ],\n",
       "       [  0.00276596,   0.00278014,   0.00290036, ...,   9.42395881,\n",
       "        288.93496276,   0.        ]])"
      ]
     },
     "execution_count": 18,
     "metadata": {},
     "output_type": "execute_result"
    }
   ],
   "source": [
    "rec_eigs[1]"
   ]
  },
  {
   "cell_type": "markdown",
   "metadata": {},
   "source": [
    "Largest values on the diagonal of $\\Sigma^{-}$ for $N=50, 100, 150$ with $d=100$"
   ]
  },
  {
   "cell_type": "code",
   "execution_count": 10,
   "metadata": {},
   "outputs": [
    {
     "data": {
      "text/plain": [
       "array([[  0.08172187,   0.11175246,   0.10554423,   0.08763487,\n",
       "          0.07823639,   0.10310705,   0.07893711,   0.08346836,\n",
       "          0.07896364,   0.07442504],\n",
       "       [249.67311904,   9.34899682,  66.77578116,  80.71416763,\n",
       "         79.62423043,  15.30604978,  45.42243109,  20.43004983,\n",
       "         53.82548286, 288.93496276],\n",
       "       [  0.19456532,   0.15129639,   0.14396875,   0.14068277,\n",
       "          0.17740046,   0.23623698,   0.17774858,   0.20408296,\n",
       "          0.18626816,   0.21922098]])"
      ]
     },
     "execution_count": 10,
     "metadata": {},
     "output_type": "execute_result"
    }
   ],
   "source": [
    "np.set_printoptions(suppress=True)\n",
    "max_eig"
   ]
  },
  {
   "cell_type": "code",
   "execution_count": 12,
   "metadata": {},
   "outputs": [],
   "source": [
    "def compute_boxplot(arr):\n",
    "    plt.boxplot(arr.T)"
   ]
  },
  {
   "cell_type": "markdown",
   "metadata": {},
   "source": [
    "# $N=50, d=100$"
   ]
  },
  {
   "cell_type": "code",
   "execution_count": 13,
   "metadata": {},
   "outputs": [
    {
     "data": {
      "image/png": "[encoded data removed]",
      "text/plain": [
       "<Figure size 432x288 with 1 Axes>"
      ]
     },
     "metadata": {
      "needs_background": "light"
     },
     "output_type": "display_data"
    }
   ],
   "source": [
    "compute_boxplot(rec_eigs[0])"
   ]
  },
  {
   "cell_type": "markdown",
   "metadata": {},
   "source": [
    "# $N=100, d=100$"
   ]
  },
  {
   "cell_type": "code",
   "execution_count": 14,
   "metadata": {},
   "outputs": [
    {
     "data": {
      "image/png": "[encoded data removed]",
      "text/plain": [
       "<Figure size 432x288 with 1 Axes>"
      ]
     },
     "metadata": {
      "needs_background": "light"
     },
     "output_type": "display_data"
    }
   ],
   "source": [
    "compute_boxplot(rec_eigs[1])"
   ]
  },
  {
   "cell_type": "markdown",
   "metadata": {},
   "source": [
    "# $N=150, d=100$"
   ]
  },
  {
   "cell_type": "code",
   "execution_count": 15,
   "metadata": {},
   "outputs": [
    {
     "data": {
      "image/png": "[encoded data removed]",
      "text/plain": [
       "<Figure size 432x288 with 1 Axes>"
      ]
     },
     "metadata": {
      "needs_background": "light"
     },
     "output_type": "display_data"
    }
   ],
   "source": [
    "compute_boxplot(rec_eigs[2])"
   ]
  },
  {
   "cell_type": "code",
   "execution_count": null,
   "metadata": {},
   "outputs": [],
   "source": []
  },
  {
   "cell_type": "code",
   "execution_count": 31,
   "metadata": {},
   "outputs": [],
   "source": [
    "np.random.seed(80)\n",
    "m = 100\n",
    "n = 100\n",
    "rec_eigs = np.zeros((len(n_list), 10, m+1))\n",
    "max_eig = np.zeros((len(n_list), 10))\n",
    "cond_number = np.zeros((len(n_list), 10))\n",
    "no_vars = m\n",
    "region = 0.1\n",
    "const = 1\n",
    "cov = np.identity((m))\n",
    "lambda_max=1\n",
    "noise_sd = 1\n",
    "f = est_dir.quad_f_noise\n",
    "index = 0\n",
    "centre_point = np.random.multivariate_normal(np.zeros((m)), cov)\n",
    "minimizer = np.zeros((m, ))\n",
    "matrix = est_dir.quad_func_params(1, lambda_max, m)\n",
    "func_args = (minimizer, matrix, 0, noise_sd)\n",
    "act_design, y, positions, func_evals = (est_dir.compute_random_design\n",
    "                                        (n, m, centre_point, no_vars,\n",
    "                                         f, func_args, region))\n",
    "full_act_design = np.ones((act_design.shape[0], act_design.shape[1] + 1))\n",
    "full_act_design[:, 1:] = act_design\n",
    "pseudo_inverse = np.linalg.pinv(full_act_design.T @ full_act_design)"
   ]
  },
  {
   "cell_type": "code",
   "execution_count": 32,
   "metadata": {},
   "outputs": [
    {
     "data": {
      "text/plain": [
       "4.399429730942502"
      ]
     },
     "execution_count": 32,
     "metadata": {},
     "output_type": "execute_result"
    }
   ],
   "source": [
    "np.max(abs(pseudo_inverse))"
   ]
  },
  {
   "cell_type": "code",
   "execution_count": 33,
   "metadata": {},
   "outputs": [
    {
     "data": {
      "text/plain": [
       "0.0"
      ]
     },
     "execution_count": 33,
     "metadata": {},
     "output_type": "execute_result"
    }
   ],
   "source": [
    "np.min(abs(pseudo_inverse))"
   ]
  },
  {
   "cell_type": "code",
   "execution_count": null,
   "metadata": {},
   "outputs": [],
   "source": []
  }
 ],
 "metadata": {
  "kernelspec": {
   "display_name": "Python 3",
   "language": "python",
   "name": "python3"
  },
  "language_info": {
   "codemirror_mode": {
    "name": "ipython",
    "version": 3
   },
   "file_extension": ".py",
   "mimetype": "text/x-python",
   "name": "python",
   "nbconvert_exporter": "python",
   "pygments_lexer": "ipython3",
   "version": "3.8.5"
  }
 },
 "nbformat": 4,
 "nbformat_minor": 4
}
