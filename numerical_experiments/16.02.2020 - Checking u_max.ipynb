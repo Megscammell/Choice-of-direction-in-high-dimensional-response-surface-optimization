{
 "cells": [
  {
   "cell_type": "code",
   "execution_count": 1,
   "metadata": {},
   "outputs": [],
   "source": [
    "import numpy as np\n",
    "import matplotlib.pyplot as plt\n",
    "import scipy\n",
    "from scipy import optimize\n",
    "from mpl_toolkits import mplot3d\n",
    "from statsmodels.formula.api import ols\n",
    "from statsmodels.stats.anova import anova_lm\n",
    "import pandas as pd\n",
    "from matplotlib import rc, animation\n",
    "import statsmodels.api as sm\n",
    "from scipy import stats\n",
    "import est_dir\n",
    "import time\n",
    "import tqdm"
   ]
  },
  {
   "cell_type": "code",
   "execution_count": 2,
   "metadata": {},
   "outputs": [],
   "source": [
    "m = 100\n",
    "n = 16\n",
    "lambda_2 = 8"
   ]
  },
  {
   "cell_type": "code",
   "execution_count": 3,
   "metadata": {},
   "outputs": [
    {
     "data": {
      "text/plain": [
       "array([12.14062262, 38.3920197 , 54.29451494, 66.49692872])"
      ]
     },
     "execution_count": 3,
     "metadata": {},
     "output_type": "execute_result"
    }
   ],
   "source": [
    "noise_list = np.genfromtxt('noise_list_n=%s_m=%s_lambda_max=%s.csv' %\n",
    "                                (n, m, lambda_2), delimiter=',')\n",
    "noise_list"
   ]
  },
  {
   "cell_type": "code",
   "execution_count": 4,
   "metadata": {},
   "outputs": [
    {
     "data": {
      "text/plain": [
       "12.140622621224393"
      ]
     },
     "execution_count": 4,
     "metadata": {},
     "output_type": "execute_result"
    }
   ],
   "source": [
    "noise_sd = noise_list[0]\n",
    "noise_sd"
   ]
  },
  {
   "cell_type": "code",
   "execution_count": null,
   "metadata": {},
   "outputs": [
    {
     "name": "stderr",
     "output_type": "stream",
     "text": [
      "100%|████████████████████████████████████████████████████████████████████████████████| 100/100 [06:54<00:00,  4.15s/it]\n",
      "100%|████████████████████████████████████████████████████████████████████████████████| 100/100 [09:29<00:00,  5.70s/it]\n",
      "100%|████████████████████████████████████████████████████████████████████████████████| 100/100 [11:04<00:00,  6.64s/it]\n",
      "100%|████████████████████████████████████████████████████████████████████████████████| 100/100 [12:31<00:00,  7.51s/it]\n",
      "100%|████████████████████████████████████████████████████████████████████████████████| 100/100 [14:53<00:00,  8.94s/it]\n",
      " 46%|█████████████████████████████████████▎                                           | 46/100 [08:37<09:50, 10.94s/it]"
     ]
    }
   ],
   "source": [
    "max_func_evals_t_list = [30000, 40000, 50000, 60000,70000,80000]\n",
    "num = 100\n",
    "domain = (0, 5)\n",
    "sp_norms = np.zeros((len(max_func_evals_t_list), num))\n",
    "fp_norms = np.zeros((2, len(max_func_evals_t_list), num))\n",
    "sp_func_vals_noise = np.zeros((2, len(max_func_evals_t_list), num))\n",
    "fp_func_vals_noise = np.zeros((2, len(max_func_evals_t_list), num))\n",
    "sp_func_vals = np.zeros((len(max_func_evals_t_list), num))\n",
    "fp_func_vals = np.zeros((2, len(max_func_evals_t_list), num))\n",
    "time_taken = np.zeros((2, len(max_func_evals_t_list), num))\n",
    "func_evals_step = np.zeros((2, len(max_func_evals_t_list), num)) \n",
    "func_evals_dir = np.zeros((2, len(max_func_evals_t_list), num))\n",
    "no_pos_missed = np.zeros((len(max_func_evals_t_list), num))\n",
    "index = 0\n",
    "for max_func_evals_t in max_func_evals_t_list:\n",
    "    for j in tqdm.tqdm(range(num)):\n",
    "        seed = j * 50\n",
    "        np.random.seed(seed)\n",
    "        f = est_dir.sphere_f_noise\n",
    "        minimizer = np.random.uniform(*domain, (m, ))\n",
    "        centre_point = np.random.uniform(*domain, (m, ))\n",
    "        matrix = est_dir.sphere_func_params(1, lambda_2, m)\n",
    "        sp_norms[index, j] = np.linalg.norm(minimizer - centre_point)\n",
    "        sp_func_vals[index, j] = est_dir.sphere_f(centre_point, minimizer, matrix)\n",
    "        func_args = (minimizer, matrix, 0, noise_sd)\n",
    "                        \n",
    "        np.random.seed(seed + 1)\n",
    "        (upd_point_LS,\n",
    "         sp_func_vals_noise[0, index, j],\n",
    "         fp_func_vals_noise[0, index, j],\n",
    "         full_time_LS,\n",
    "         func_evals_step[0, index, j],\n",
    "         func_evals_dir[0, index, j],\n",
    "         no_its_LS) = est_dir.calc_its_until_sc(centre_point, f, func_args, n, m,\n",
    "                                                              option='LS',\n",
    "                                                              max_func_evals=max_func_evals_t)\n",
    "\n",
    "        fp_norms[0, index, j] = np.linalg.norm(minimizer - upd_point_LS)\n",
    "        fp_func_vals[0, index, j] =  est_dir.sphere_f(upd_point_LS, minimizer, matrix)                                                 \n",
    "        np.random.seed(seed + 1)\n",
    "        (upd_point_XY, \n",
    "         sp_func_vals_noise[1, index, j],\n",
    "         fp_func_vals_noise[1, index, j],\n",
    "         full_time_XY,\n",
    "         func_evals_step[1, index, j],\n",
    "         func_evals_dir[1, index, j],\n",
    "         its_XY) = est_dir.calc_its_until_sc(centre_point, f, func_args, n, m, \n",
    "                                             option='XY',\n",
    "                                             max_func_evals=max_func_evals_t)\n",
    "        fp_norms[1, index, j] = np.linalg.norm(minimizer - upd_point_XY)\n",
    "        fp_func_vals[1, index, j] = est_dir.sphere_f(upd_point_XY, minimizer, matrix)\n",
    "    index += 1"
   ]
  },
  {
   "cell_type": "code",
   "execution_count": null,
   "metadata": {},
   "outputs": [],
   "source": [
    "ticks = max_func_evals_t_list"
   ]
  },
  {
   "cell_type": "code",
   "execution_count": null,
   "metadata": {},
   "outputs": [],
   "source": [
    "import matplotlib.ticker as ticker\n",
    "def set_box_color(bp, color):\n",
    "    plt.setp(bp['boxes'], color=color)\n",
    "    plt.setp(bp['whiskers'], color=color)\n",
    "    plt.setp(bp['caps'], color=color)\n",
    "    plt.setp(bp['medians'], color=color)\n",
    "\n",
    "def create_boxplots(arr1, arr2, arr3, label1, label2, label3, m, n,\n",
    "                    max_func_evals_t, noise_sd,\n",
    "                    title):\n",
    "    plt.figure(figsize=(10, 5))\n",
    "    if title == 'func_vals':\n",
    "        plt.yscale(\"log\")\n",
    "        plt.ylim(0.01, np.max(arr1) + 1000)\n",
    "    bpl = plt.boxplot(arr1.T,\n",
    "                      positions=np.array(range(len(arr1)))*3.0-0.7)\n",
    "    bpc = plt.boxplot(arr2.T,\n",
    "                      positions=np.array(range(len(arr2)))*3.0+0)\n",
    "    bpr = plt.boxplot(arr3.T,\n",
    "                      positions=np.array(range(len(arr3)))*3.0+0.7)\n",
    "    set_box_color(bpl, 'green')\n",
    "    set_box_color(bpc, 'purple')\n",
    "    set_box_color(bpr, 'navy')\n",
    "    plt.plot([], c='green', label=label1)\n",
    "    plt.plot([], c='purple', label=label2)\n",
    "    plt.plot([], c='navy', label=label3)\n",
    "    plt.legend(bbox_to_anchor=(0.99, 1.025), loc='upper left',\n",
    "               prop={'size': 12})\n",
    "    plt.xlabel(r'$u$', size=15)\n",
    "    plt.xticks(np.arange(0, len(ticks) * 3, 3), ticks, size=15)\n",
    "    plt.yticks(fontsize=15)\n",
    "    plt.tight_layout()\n",
    "#     plt.savefig('%s_m_%s_n_%s_func_evals_%s_%s_%s_sd_%s_diff_lambda_max.pdf' %\n",
    "#                 (title, m, n, max_func_evals_t, choice_t, no_vars_t, noise_sd))"
   ]
  },
  {
   "cell_type": "code",
   "execution_count": null,
   "metadata": {},
   "outputs": [],
   "source": [
    "labels = [[r'$||x_1 - x_{*}||$',\n",
    "         r'$||x_{K}^{(LS)} - x_{*}||$',\n",
    "         r'$||x_{K}^{(MY)} - x_{*}||$'],\n",
    "        [r'$f(x_1)$',\n",
    "         r'$f(x_{K}^{(LS)})$',\n",
    "         r'$f(x_{K}^{(MY)})$']]"
   ]
  },
  {
   "cell_type": "code",
   "execution_count": null,
   "metadata": {},
   "outputs": [],
   "source": [
    "create_boxplots(sp_norms, fp_norms[0], fp_norms[1], labels[0][0], labels[0][1], labels[0][2], m, n,\n",
    "                max_func_evals_t, noise_sd, 'norms')"
   ]
  },
  {
   "cell_type": "code",
   "execution_count": null,
   "metadata": {},
   "outputs": [],
   "source": [
    "np.median(fp_norms[1][0])"
   ]
  },
  {
   "cell_type": "code",
   "execution_count": null,
   "metadata": {},
   "outputs": [],
   "source": [
    "np.median(fp_norms[1][1])"
   ]
  },
  {
   "cell_type": "code",
   "execution_count": null,
   "metadata": {},
   "outputs": [],
   "source": [
    "np.median(fp_norms[1][2])"
   ]
  },
  {
   "cell_type": "code",
   "execution_count": null,
   "metadata": {},
   "outputs": [],
   "source": [
    "np.median(fp_norms[1][3])"
   ]
  },
  {
   "cell_type": "code",
   "execution_count": null,
   "metadata": {},
   "outputs": [],
   "source": [
    "create_boxplots(sp_func_vals, fp_func_vals[0], fp_func_vals[1], labels[1][0], labels[1][1], labels[1][2], m, n,\n",
    "                max_func_evals_t, noise_sd, 'func_vals')"
   ]
  },
  {
   "cell_type": "code",
   "execution_count": null,
   "metadata": {},
   "outputs": [],
   "source": [
    "np.median(fp_func_vals[1][0])"
   ]
  },
  {
   "cell_type": "code",
   "execution_count": null,
   "metadata": {},
   "outputs": [],
   "source": [
    "np.median(fp_func_vals[1][1])"
   ]
  },
  {
   "cell_type": "code",
   "execution_count": null,
   "metadata": {},
   "outputs": [],
   "source": [
    "np.median(fp_func_vals[1][2])"
   ]
  },
  {
   "cell_type": "code",
   "execution_count": null,
   "metadata": {},
   "outputs": [],
   "source": [
    "np.median(fp_func_vals[1][3])"
   ]
  },
  {
   "cell_type": "code",
   "execution_count": null,
   "metadata": {},
   "outputs": [],
   "source": []
  }
 ],
 "metadata": {
  "kernelspec": {
   "display_name": "Python 3",
   "language": "python",
   "name": "python3"
  },
  "language_info": {
   "codemirror_mode": {
    "name": "ipython",
    "version": 3
   },
   "file_extension": ".py",
   "mimetype": "text/x-python",
   "name": "python",
   "nbconvert_exporter": "python",
   "pygments_lexer": "ipython3",
   "version": "3.8.5"
  }
 },
 "nbformat": 4,
 "nbformat_minor": 4
}
