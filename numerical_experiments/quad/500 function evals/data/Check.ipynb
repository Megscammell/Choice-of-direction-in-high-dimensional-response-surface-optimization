{
 "cells": [
  {
   "cell_type": "code",
   "execution_count": 1,
   "metadata": {},
   "outputs": [],
   "source": [
    "import numpy as np\n",
    "import est_dir\n",
    "import tqdm\n",
    "import matplotlib.pyplot as plt\n",
    "import matplotlib.ticker as ticker"
   ]
  },
  {
   "cell_type": "code",
   "execution_count": 3,
   "metadata": {},
   "outputs": [],
   "source": [
    "n = 16\n",
    "m = 100\n",
    "region = 0.1\n",
    "function_type = 'sqr_quad'\n",
    "type_inverse = 'left'\n",
    "func_evals = 500\n",
    "if func_evals == 0:\n",
    "    save_outputs = None\n",
    "else:\n",
    "    save_outputs = func_evals\n",
    "snr_list = [0.5, 1, 2, 3, 5, 10]\n",
    "lambda_max_list = [1, 4, 8]\n",
    "no_vars = m\n",
    "num_funcs = 100\n",
    "n_list = (16,32,50, 100,200)\n",
    "lambda_max = 8"
   ]
  },
  {
   "cell_type": "code",
   "execution_count": null,
   "metadata": {},
   "outputs": [],
   "source": []
  },
  {
   "cell_type": "code",
   "execution_count": 4,
   "metadata": {},
   "outputs": [
    {
     "ename": "OSError",
     "evalue": "fp_norms_MP_n=16_m=100_lambda_max=8_100_left_0.1_sqr_quad_500.csv not found.",
     "output_type": "error",
     "traceback": [
      "\u001b[1;31m---------------------------------------------------------------------------\u001b[0m",
      "\u001b[1;31mOSError\u001b[0m                                   Traceback (most recent call last)",
      "\u001b[1;32m<ipython-input-4-85c9cbfc0b41>\u001b[0m in \u001b[0;36m<module>\u001b[1;34m\u001b[0m\n\u001b[0;32m     51\u001b[0m \u001b[0mn_index\u001b[0m \u001b[1;33m=\u001b[0m \u001b[1;36m0\u001b[0m\u001b[1;33m\u001b[0m\u001b[1;33m\u001b[0m\u001b[0m\n\u001b[0;32m     52\u001b[0m \u001b[1;32mfor\u001b[0m \u001b[0mn\u001b[0m \u001b[1;32min\u001b[0m \u001b[0mn_list\u001b[0m\u001b[1;33m:\u001b[0m\u001b[1;33m\u001b[0m\u001b[1;33m\u001b[0m\u001b[0m\n\u001b[1;32m---> 53\u001b[1;33m     fp_norms_MP[n_index] = (np.genfromtxt(\n\u001b[0m\u001b[0;32m     54\u001b[0m                                      \u001b[1;34m'fp_norms_MP_n=%s_m=%s_lambda_max'\u001b[0m\u001b[1;33m\u001b[0m\u001b[1;33m\u001b[0m\u001b[0m\n\u001b[0;32m     55\u001b[0m                                      \u001b[1;34m'=%s_%s_%s_%s_%s_%s.csv'\u001b[0m \u001b[1;33m%\u001b[0m\u001b[1;33m\u001b[0m\u001b[1;33m\u001b[0m\u001b[0m\n",
      "\u001b[1;32m~\\anaconda3\\lib\\site-packages\\numpy\\lib\\npyio.py\u001b[0m in \u001b[0;36mgenfromtxt\u001b[1;34m(fname, dtype, comments, delimiter, skip_header, skip_footer, converters, missing_values, filling_values, usecols, names, excludelist, deletechars, replace_space, autostrip, case_sensitive, defaultfmt, unpack, usemask, loose, invalid_raise, max_rows, encoding)\u001b[0m\n\u001b[0;32m   1747\u001b[0m             \u001b[0mfname\u001b[0m \u001b[1;33m=\u001b[0m \u001b[0mos_fspath\u001b[0m\u001b[1;33m(\u001b[0m\u001b[0mfname\u001b[0m\u001b[1;33m)\u001b[0m\u001b[1;33m\u001b[0m\u001b[1;33m\u001b[0m\u001b[0m\n\u001b[0;32m   1748\u001b[0m         \u001b[1;32mif\u001b[0m \u001b[0misinstance\u001b[0m\u001b[1;33m(\u001b[0m\u001b[0mfname\u001b[0m\u001b[1;33m,\u001b[0m \u001b[0mstr\u001b[0m\u001b[1;33m)\u001b[0m\u001b[1;33m:\u001b[0m\u001b[1;33m\u001b[0m\u001b[1;33m\u001b[0m\u001b[0m\n\u001b[1;32m-> 1749\u001b[1;33m             \u001b[0mfid\u001b[0m \u001b[1;33m=\u001b[0m \u001b[0mnp\u001b[0m\u001b[1;33m.\u001b[0m\u001b[0mlib\u001b[0m\u001b[1;33m.\u001b[0m\u001b[0m_datasource\u001b[0m\u001b[1;33m.\u001b[0m\u001b[0mopen\u001b[0m\u001b[1;33m(\u001b[0m\u001b[0mfname\u001b[0m\u001b[1;33m,\u001b[0m \u001b[1;34m'rt'\u001b[0m\u001b[1;33m,\u001b[0m \u001b[0mencoding\u001b[0m\u001b[1;33m=\u001b[0m\u001b[0mencoding\u001b[0m\u001b[1;33m)\u001b[0m\u001b[1;33m\u001b[0m\u001b[1;33m\u001b[0m\u001b[0m\n\u001b[0m\u001b[0;32m   1750\u001b[0m             \u001b[0mfid_ctx\u001b[0m \u001b[1;33m=\u001b[0m \u001b[0mcontextlib\u001b[0m\u001b[1;33m.\u001b[0m\u001b[0mclosing\u001b[0m\u001b[1;33m(\u001b[0m\u001b[0mfid\u001b[0m\u001b[1;33m)\u001b[0m\u001b[1;33m\u001b[0m\u001b[1;33m\u001b[0m\u001b[0m\n\u001b[0;32m   1751\u001b[0m         \u001b[1;32melse\u001b[0m\u001b[1;33m:\u001b[0m\u001b[1;33m\u001b[0m\u001b[1;33m\u001b[0m\u001b[0m\n",
      "\u001b[1;32m~\\anaconda3\\lib\\site-packages\\numpy\\lib\\_datasource.py\u001b[0m in \u001b[0;36mopen\u001b[1;34m(path, mode, destpath, encoding, newline)\u001b[0m\n\u001b[0;32m    193\u001b[0m \u001b[1;33m\u001b[0m\u001b[0m\n\u001b[0;32m    194\u001b[0m     \u001b[0mds\u001b[0m \u001b[1;33m=\u001b[0m \u001b[0mDataSource\u001b[0m\u001b[1;33m(\u001b[0m\u001b[0mdestpath\u001b[0m\u001b[1;33m)\u001b[0m\u001b[1;33m\u001b[0m\u001b[1;33m\u001b[0m\u001b[0m\n\u001b[1;32m--> 195\u001b[1;33m     \u001b[1;32mreturn\u001b[0m \u001b[0mds\u001b[0m\u001b[1;33m.\u001b[0m\u001b[0mopen\u001b[0m\u001b[1;33m(\u001b[0m\u001b[0mpath\u001b[0m\u001b[1;33m,\u001b[0m \u001b[0mmode\u001b[0m\u001b[1;33m,\u001b[0m \u001b[0mencoding\u001b[0m\u001b[1;33m=\u001b[0m\u001b[0mencoding\u001b[0m\u001b[1;33m,\u001b[0m \u001b[0mnewline\u001b[0m\u001b[1;33m=\u001b[0m\u001b[0mnewline\u001b[0m\u001b[1;33m)\u001b[0m\u001b[1;33m\u001b[0m\u001b[1;33m\u001b[0m\u001b[0m\n\u001b[0m\u001b[0;32m    196\u001b[0m \u001b[1;33m\u001b[0m\u001b[0m\n\u001b[0;32m    197\u001b[0m \u001b[1;33m\u001b[0m\u001b[0m\n",
      "\u001b[1;32m~\\anaconda3\\lib\\site-packages\\numpy\\lib\\_datasource.py\u001b[0m in \u001b[0;36mopen\u001b[1;34m(self, path, mode, encoding, newline)\u001b[0m\n\u001b[0;32m    533\u001b[0m                                       encoding=encoding, newline=newline)\n\u001b[0;32m    534\u001b[0m         \u001b[1;32melse\u001b[0m\u001b[1;33m:\u001b[0m\u001b[1;33m\u001b[0m\u001b[1;33m\u001b[0m\u001b[0m\n\u001b[1;32m--> 535\u001b[1;33m             \u001b[1;32mraise\u001b[0m \u001b[0mIOError\u001b[0m\u001b[1;33m(\u001b[0m\u001b[1;34m\"%s not found.\"\u001b[0m \u001b[1;33m%\u001b[0m \u001b[0mpath\u001b[0m\u001b[1;33m)\u001b[0m\u001b[1;33m\u001b[0m\u001b[1;33m\u001b[0m\u001b[0m\n\u001b[0m\u001b[0;32m    536\u001b[0m \u001b[1;33m\u001b[0m\u001b[0m\n\u001b[0;32m    537\u001b[0m \u001b[1;33m\u001b[0m\u001b[0m\n",
      "\u001b[1;31mOSError\u001b[0m: fp_norms_MP_n=16_m=100_lambda_max=8_100_left_0.1_sqr_quad_500.csv not found."
     ]
    }
   ],
   "source": [
    "fp_norms_LS = np.zeros((len(n_list), len(snr_list), num_funcs))\n",
    "fp_func_vals_LS = np.zeros((len(n_list), len(snr_list),\n",
    "                            num_funcs))\n",
    "fp_func_vals_noise_LS = np.zeros((len(n_list), len(snr_list),\n",
    "                                  num_funcs))\n",
    "func_evals_step_LS = np.zeros((len(n_list), len(snr_list),\n",
    "                               num_funcs))\n",
    "func_evals_dir_LS = np.zeros((len(n_list), len(snr_list),\n",
    "                              num_funcs))\n",
    "good_dir_prop_LS = np.zeros((len(n_list), len(snr_list),\n",
    "                             num_funcs))\n",
    "good_dir_norm_LS = np.zeros((len(n_list), len(snr_list),\n",
    "                             num_funcs))\n",
    "no_its_LS = np.zeros((len(n_list), len(snr_list), num_funcs))\n",
    "\n",
    "fp_norms_MP = np.zeros((len(n_list), len(snr_list), num_funcs))\n",
    "fp_func_vals_MP = np.zeros((len(n_list), len(snr_list),\n",
    "                            num_funcs))\n",
    "fp_func_vals_noise_MP = np.zeros((len(n_list), len(snr_list),\n",
    "                                  num_funcs))\n",
    "func_evals_step_MP = np.zeros((len(n_list), len(snr_list),\n",
    "                               num_funcs))\n",
    "func_evals_dir_MP = np.zeros((len(n_list), len(snr_list),\n",
    "                              num_funcs))\n",
    "good_dir_prop_MP = np.zeros((len(n_list), len(snr_list),\n",
    "                             num_funcs))\n",
    "good_dir_norm_MP = np.zeros((len(n_list), len(snr_list),\n",
    "                             num_funcs))\n",
    "no_its_MP = np.zeros((len(n_list), len(snr_list),\n",
    "                      num_funcs))\n",
    "\n",
    "fp_norms_XY = np.zeros((len(n_list), len(snr_list),\n",
    "                        num_funcs))\n",
    "fp_func_vals_XY = np.zeros((len(n_list), len(snr_list),\n",
    "                            num_funcs))\n",
    "fp_func_vals_noise_XY = np.zeros((len(n_list), len(snr_list),\n",
    "                                  num_funcs))\n",
    "func_evals_step_XY = np.zeros((len(n_list), len(snr_list),\n",
    "                               num_funcs))\n",
    "func_evals_dir_XY = np.zeros((len(n_list), len(snr_list),\n",
    "                              num_funcs))\n",
    "good_dir_prop_XY = np.zeros((len(n_list), len(snr_list),\n",
    "                             num_funcs))\n",
    "good_dir_norm_XY = np.zeros((len(n_list), len(snr_list),\n",
    "                             num_funcs))\n",
    "no_its_XY = np.zeros((len(n_list), len(snr_list), num_funcs))\n",
    "\n",
    "sp_norms = np.zeros((len(n_list), len(snr_list), num_funcs))\n",
    "sp_func_vals = np.zeros((len(n_list), len(snr_list), num_funcs))\n",
    "\n",
    "n_index = 0\n",
    "for n in n_list:\n",
    "    fp_norms_MP[n_index] = (np.genfromtxt(\n",
    "                                     'fp_norms_MP_n=%s_m=%s_lambda_max'\n",
    "                                     '=%s_%s_%s_%s_%s_%s.csv' %\n",
    "                                     (n, m, lambda_max,\n",
    "                                      no_vars,\n",
    "                                      type_inverse,\n",
    "                                      region,\n",
    "                                      function_type,\n",
    "                                      save_outputs),\n",
    "                                     delimiter=','))\n",
    "\n",
    "    fp_func_vals_MP[n_index] = (np.genfromtxt(\n",
    "                                         'fp_func_vals_MP_n=%s_m=%s_lambda'\n",
    "                                         '_max=%s_%s_%s_%s_%s_%s.csv' %\n",
    "                                         (n, m, lambda_max,\n",
    "                                          no_vars,\n",
    "                                          type_inverse,\n",
    "                                          region,\n",
    "                                          function_type,\n",
    "                                          save_outputs),\n",
    "                                         delimiter=','))\n",
    "\n",
    "    func_evals_step_MP[n_index] = (np.genfromtxt(\n",
    "                                            'func_evals_step_MP_n=%s_m=%s'\n",
    "                                            '_lambda_max=%s_%s_%s'\n",
    "                                            '_%s_%s_%s.csv' %\n",
    "                                            (n, m, lambda_max,\n",
    "                                             no_vars,\n",
    "                                             type_inverse,\n",
    "                                             region,\n",
    "                                             function_type,\n",
    "                                             save_outputs),\n",
    "                                            delimiter=','))\n",
    "\n",
    "    func_evals_dir_MP[n_index] = (np.genfromtxt(\n",
    "                                           'func_evals_dir_MP_n=%s_m=%s_'\n",
    "                                           'lambda_max=%s_%s_%s'\n",
    "                                           '_%s_%s_%s.csv' %\n",
    "                                           (n, m, lambda_max,\n",
    "                                            no_vars,\n",
    "                                            type_inverse,\n",
    "                                            region,\n",
    "                                            function_type,\n",
    "                                            save_outputs),\n",
    "                                           delimiter=','))\n",
    "\n",
    "\n",
    "    good_dir_prop_MP[n_index] = (np.genfromtxt(\n",
    "                                          'good_dir_prop_MP_n=%s_m=%s_lamb'\n",
    "                                          'da_max=%s_%s_%s_%s_%s_%s.csv' %\n",
    "                                          (n, m, lambda_max,\n",
    "                                           no_vars,\n",
    "                                           type_inverse,\n",
    "                                           region,\n",
    "                                           function_type,\n",
    "                                           save_outputs),\n",
    "                                          delimiter=','))\n",
    "\n",
    "    fp_norms_XY[n_index] = (np.genfromtxt(\n",
    "                                     'fp_norms_XY_n=%s_m=%s_lambda_max=%s'\n",
    "                                     '_%s_%s_%s_%s.csv' %\n",
    "                                     (n, m, lambda_max,\n",
    "                                      no_vars,\n",
    "                                      region,\n",
    "                                      function_type,\n",
    "                                      save_outputs),\n",
    "                                     delimiter=','))\n",
    "\n",
    "    fp_func_vals_XY[n_index] = (np.genfromtxt(\n",
    "                                         'fp_func_vals_XY_n=%s_m=%s_lambda'\n",
    "                                         '_max=%s_%s_%s_%s_%s.csv' %\n",
    "                                         (n, m, lambda_max,\n",
    "                                          no_vars,\n",
    "                                          region,\n",
    "                                          function_type,\n",
    "                                          save_outputs),\n",
    "                                         delimiter=','))\n",
    "\n",
    "    func_evals_step_XY[n_index] = (np.genfromtxt(\n",
    "                                            'func_evals_step_XY_n=%s_m=%s'\n",
    "                                            '_lambda_max=%s_%s_%s_%s_%s.csv' %\n",
    "                                            (n, m, lambda_max,\n",
    "                                             no_vars,\n",
    "                                             region,\n",
    "                                             function_type,\n",
    "                                             save_outputs),\n",
    "                                            delimiter=','))\n",
    "\n",
    "    func_evals_dir_XY[n_index] = (np.genfromtxt(\n",
    "                                           'func_evals_dir_XY_n=%s_m=%s'\n",
    "                                           '_lambda_max=%s_%s_%s_%s_%s.csv' %\n",
    "                                           (n, m, lambda_max,\n",
    "                                            no_vars,\n",
    "                                            region,\n",
    "                                            function_type,\n",
    "                                            save_outputs),\n",
    "                                           delimiter=','))\n",
    "\n",
    "\n",
    "    good_dir_prop_XY[n_index] = (np.genfromtxt(\n",
    "                                          'good_dir_prop_XY_n=%s_m=%s_la'\n",
    "                                          'mbda_max=%s_%s_%s_%s_%s.csv' %\n",
    "                                          (n, m, lambda_max,\n",
    "                                           no_vars,\n",
    "                                           region,\n",
    "                                           function_type,\n",
    "                                           save_outputs),\n",
    "                                          delimiter=','))\n",
    "\n",
    "\n",
    "    sp_norms[n_index] = (np.genfromtxt(\n",
    "                                  'sp_norms_XY_n=%s_m=%s_lambda'\n",
    "                                  '_max=%s_%s_%s.csv' %\n",
    "                                  (n, m, lambda_max, function_type,\n",
    "                                  save_outputs),\n",
    "                                  delimiter=','))\n",
    "\n",
    "    sp_func_vals[n_index] = (np.genfromtxt(\n",
    "                                      'sp_func_vals_XY_n=%s_m=%s'\n",
    "                                      '_lambda_max=%s_%s_%s.csv' %\n",
    "                                      (n, m, lambda_max, function_type,\n",
    "                                       save_outputs),\n",
    "                                      delimiter=','))\n",
    "\n",
    "    n_index += 1"
   ]
  },
  {
   "cell_type": "code",
   "execution_count": null,
   "metadata": {},
   "outputs": [],
   "source": []
  },
  {
   "cell_type": "code",
   "execution_count": 26,
   "metadata": {},
   "outputs": [],
   "source": [
    "m = 100\n",
    "region = 0.1\n",
    "function_type = 'sqr_quad'\n",
    "type_inverse = 'left'\n",
    "func_evals = 2000\n",
    "snr_list = [0.5, 1, 2, 3, 5, 10]\n",
    "lambda_max_list = [1, 4, 8]\n",
    "no_vars = m\n",
    "num_funcs = 100\n",
    "n_list = [16,32,50, 100,200]"
   ]
  },
  {
   "cell_type": "code",
   "execution_count": null,
   "metadata": {},
   "outputs": [],
   "source": []
  },
  {
   "cell_type": "code",
   "execution_count": 27,
   "metadata": {},
   "outputs": [],
   "source": [
    "func_evals_snr_MP = np.zeros((2, len(lambda_max_list), len(n_list)))\n",
    "func_evals_snr_XY = np.zeros((2, len(lambda_max_list), len(n_list)))\n",
    "\n",
    "for j in range(len(lambda_max_list)):\n",
    "    for i in range(len(n_list)):\n",
    "        lambda_max = lambda_max_list[j]\n",
    "        n = n_list[i]\n",
    "        save_outputs = func_evals\n",
    "        func_evals_step_MP = (np.genfromtxt(\n",
    "                            'func_evals_step_MP_n=%s_m=%s'\n",
    "                            '_lambda_max=%s_%s_%s'\n",
    "                            '_%s_%s_%s.csv' %\n",
    "                            (n, m, lambda_max,\n",
    "                            no_vars,\n",
    "                            type_inverse,\n",
    "                            region,\n",
    "                            function_type,\n",
    "                            save_outputs),\n",
    "                            delimiter=','))\n",
    "\n",
    "        func_evals_dir_MP = (np.genfromtxt(\n",
    "                            'func_evals_dir_MP_n=%s_m=%s_'\n",
    "                            'lambda_max=%s_%s_%s'\n",
    "                            '_%s_%s_%s.csv' %\n",
    "                            (n, m, lambda_max,\n",
    "                            no_vars,\n",
    "                            type_inverse,\n",
    "                            region,\n",
    "                            function_type,\n",
    "                            save_outputs),\n",
    "                            delimiter=','))\n",
    "\n",
    "        func_evals_step_XY = (np.genfromtxt(\n",
    "                            'func_evals_step_XY_n=%s_m=%s'\n",
    "                            '_lambda_max=%s_%s_%s_%s_%s.csv' %\n",
    "                            (n, m, lambda_max,\n",
    "                            no_vars,\n",
    "                            region,\n",
    "                            function_type,\n",
    "                            save_outputs),\n",
    "                            delimiter=','))\n",
    "\n",
    "        func_evals_dir_XY = (np.genfromtxt(\n",
    "                            'func_evals_dir_XY_n=%s_m=%s'\n",
    "                            '_lambda_max=%s_%s_%s_%s_%s.csv' %\n",
    "                            (n, m, lambda_max,\n",
    "                            no_vars,\n",
    "                            region,\n",
    "                            function_type,\n",
    "                            save_outputs),\n",
    "                            delimiter=','))\n",
    "\n",
    "        func_evals_snr_MP[0, j, i] = (np.mean(func_evals_dir_MP[0] +\n",
    "                                            func_evals_step_MP[0]))\n",
    "        func_evals_snr_MP[1, j, i] = (np.mean(func_evals_dir_MP[2] +\n",
    "                                            func_evals_step_MP[2]))\n",
    "\n",
    "        func_evals_snr_XY[0, j, i] = (np.mean(func_evals_dir_XY[0] +\n",
    "                                            func_evals_step_XY[0]))\n",
    "        func_evals_snr_XY[1, j, i] = (np.mean(func_evals_dir_XY[ 2] +\n",
    "                                            func_evals_step_XY[2]))\n",
    "arr = np.concatenate((func_evals_snr_MP.reshape(6, 5),\n",
    "                      func_evals_snr_XY.reshape(6, 5)), axis=0)"
   ]
  },
  {
   "cell_type": "code",
   "execution_count": 28,
   "metadata": {},
   "outputs": [
    {
     "data": {
      "text/plain": [
       "(6, 100)"
      ]
     },
     "execution_count": 28,
     "metadata": {},
     "output_type": "execute_result"
    }
   ],
   "source": [
    "func_evals_dir_MP.shape"
   ]
  },
  {
   "cell_type": "code",
   "execution_count": 29,
   "metadata": {},
   "outputs": [
    {
     "data": {
      "text/plain": [
       "array([[2000.46, 1992.48, 1982.33, 1960.91, 1848.16],\n",
       "       [2001.29, 1993.54, 1984.39, 1963.52, 1845.38],\n",
       "       [2002.07, 1995.04, 1982.59, 1958.32, 1846.26],\n",
       "       [2002.12, 1994.16, 1983.7 , 1938.29, 1872.7 ],\n",
       "       [2001.31, 1992.28, 1985.26, 1935.78, 1860.91],\n",
       "       [2000.2 , 1993.15, 1983.51, 1941.3 , 1856.02],\n",
       "       [2000.57, 1993.44, 1983.53, 1936.79, 1849.63],\n",
       "       [1999.86, 1991.76, 1981.97, 1939.75, 1848.36],\n",
       "       [1999.19, 1993.16, 1982.09, 1941.54, 1848.2 ],\n",
       "       [1998.94, 1991.9 , 1986.2 , 1951.35, 1855.72],\n",
       "       [1999.81, 1992.91, 1983.66, 1940.65, 1851.91],\n",
       "       [2000.6 , 1991.31, 1980.76, 1936.29, 1850.79]])"
      ]
     },
     "execution_count": 29,
     "metadata": {},
     "output_type": "execute_result"
    }
   ],
   "source": [
    "arr"
   ]
  },
  {
   "cell_type": "code",
   "execution_count": 33,
   "metadata": {},
   "outputs": [],
   "source": [
    "\n",
    "lambda_max = 8\n",
    "n = 200\n",
    "save_outputs = func_evals\n",
    "func_evals_step_MP = (np.genfromtxt(\n",
    "                    'func_evals_step_MP_n=%s_m=%s'\n",
    "                    '_lambda_max=%s_%s_%s'\n",
    "                    '_%s_%s_%s.csv' %\n",
    "                    (n, m, lambda_max,\n",
    "                    no_vars,\n",
    "                    type_inverse,\n",
    "                    region,\n",
    "                    function_type,\n",
    "                    save_outputs),\n",
    "                    delimiter=','))\n",
    "\n",
    "func_evals_dir_MP = (np.genfromtxt(\n",
    "                    'func_evals_dir_MP_n=%s_m=%s_'\n",
    "                    'lambda_max=%s_%s_%s'\n",
    "                    '_%s_%s_%s.csv' %\n",
    "                    (n, m, lambda_max,\n",
    "                    no_vars,\n",
    "                    type_inverse,\n",
    "                    region,\n",
    "                    function_type,\n",
    "                    save_outputs),\n",
    "                    delimiter=','))\n",
    "\n",
    "func_evals_step_XY = (np.genfromtxt(\n",
    "                    'func_evals_step_XY_n=%s_m=%s'\n",
    "                    '_lambda_max=%s_%s_%s_%s_%s.csv' %\n",
    "                    (n, m, lambda_max,\n",
    "                    no_vars,\n",
    "                    region,\n",
    "                    function_type,\n",
    "                    save_outputs),\n",
    "                    delimiter=','))\n",
    "\n",
    "func_evals_dir_XY = (np.genfromtxt(\n",
    "                    'func_evals_dir_XY_n=%s_m=%s'\n",
    "                    '_lambda_max=%s_%s_%s_%s_%s.csv' %\n",
    "                    (n, m, lambda_max,\n",
    "                    no_vars,\n",
    "                    region,\n",
    "                    function_type,\n",
    "                    save_outputs),\n",
    "                    delimiter=','))"
   ]
  },
  {
   "cell_type": "code",
   "execution_count": 36,
   "metadata": {},
   "outputs": [
    {
     "data": {
      "text/plain": [
       "(6, 100)"
      ]
     },
     "execution_count": 36,
     "metadata": {},
     "output_type": "execute_result"
    }
   ],
   "source": [
    "func_evals_dir_XY .shape"
   ]
  },
  {
   "cell_type": "code",
   "execution_count": 34,
   "metadata": {},
   "outputs": [
    {
     "data": {
      "text/plain": [
       "[1846.26, 1856.02]"
      ]
     },
     "execution_count": 34,
     "metadata": {},
     "output_type": "execute_result"
    }
   ],
   "source": [
    "[np.mean(func_evals_dir_MP[0] + func_evals_step_MP[0]),\n",
    "np.mean(func_evals_dir_MP[2] + func_evals_step_MP[2])]\n"
   ]
  },
  {
   "cell_type": "code",
   "execution_count": 35,
   "metadata": {},
   "outputs": [
    {
     "data": {
      "text/plain": [
       "[1848.2, 1850.79]"
      ]
     },
     "execution_count": 35,
     "metadata": {},
     "output_type": "execute_result"
    }
   ],
   "source": [
    "[np.mean(func_evals_dir_XY[0] + func_evals_step_XY[ 0]),\n",
    "np.mean(func_evals_dir_XY[2] + func_evals_step_XY[ 2])]\n",
    "\n"
   ]
  },
  {
   "cell_type": "code",
   "execution_count": null,
   "metadata": {},
   "outputs": [],
   "source": []
  },
  {
   "cell_type": "code",
   "execution_count": null,
   "metadata": {},
   "outputs": [],
   "source": []
  },
  {
   "cell_type": "code",
   "execution_count": null,
   "metadata": {},
   "outputs": [],
   "source": []
  },
  {
   "cell_type": "code",
   "execution_count": 37,
   "metadata": {},
   "outputs": [],
   "source": [
    "m = 100\n",
    "lambda_max = 1\n",
    "region =  0.1\n",
    "function_type = 'quad'\n",
    "type_inverse = 'left'\n",
    "func_evals = 2000\n",
    "\n",
    "n_list = [16, 32, 50, 100, 200]\n",
    "snr_list = [0.5, 1, 2, 3, 5, 10]\n",
    "no_vars = m\n",
    "num_funcs = 100\n",
    "\n",
    "if func_evals == 0:\n",
    "    save_outputs = None\n",
    "else:\n",
    "    save_outputs = func_evals\n",
    "\n",
    "fp_norms_XY = np.zeros((len(snr_list), len(n_list), num_funcs))\n",
    "fp_func_vals_XY = np.zeros((len(snr_list), len(n_list), num_funcs))\n",
    "func_evals_step_XY = np.zeros((len(snr_list), len(n_list), num_funcs))\n",
    "func_evals_dir_XY = np.zeros((len(snr_list), len(n_list), num_funcs))\n",
    "\n",
    "fp_norms_MP = np.zeros((len(snr_list), len(n_list), num_funcs))\n",
    "fp_func_vals_MP = np.zeros((len(snr_list), len(n_list), num_funcs))\n",
    "func_evals_step_MP = np.zeros((len(snr_list), len(n_list), num_funcs))\n",
    "func_evals_dir_MP = np.zeros((len(snr_list), len(n_list), num_funcs))\n",
    "\n",
    "sp_norms = np.zeros((len(snr_list), len(n_list), num_funcs))\n",
    "sp_func_vals = np.zeros((len(snr_list), len(n_list), num_funcs))\n",
    "\n",
    "for i in range(len(snr_list)):\n",
    "    for j in range(len(n_list)):\n",
    "        n = n_list[j]\n",
    "\n",
    "        fp_norms_MP[i, j] = (np.genfromtxt(\n",
    "                             'fp_norms_MP_n=%s_m=%s_lambda_max=%s_'\n",
    "                             '%s_%s_%s_%s_%s.csv' %\n",
    "                             (n, m, lambda_max,\n",
    "                              no_vars,\n",
    "                              type_inverse,\n",
    "                              region,\n",
    "                              function_type,\n",
    "                              save_outputs),\n",
    "                             delimiter=',')[i])\n",
    "\n",
    "        fp_func_vals_MP[i, j] = (np.genfromtxt(\n",
    "                                 'fp_func_vals_MP_n=%s_m=%s_lambda_max'\n",
    "                                 '=%s_%s_%s_%s_%s_%s.csv' %\n",
    "                                 (n, m, lambda_max,\n",
    "                                  no_vars,\n",
    "                                  type_inverse,\n",
    "                                  region,\n",
    "                                  function_type,\n",
    "                                  save_outputs),\n",
    "                                 delimiter=',')[i])\n",
    "\n",
    "        func_evals_step_MP[i, j] = (np.genfromtxt(\n",
    "                                    'func_evals_step_MP_n=%s_m=%s_lambda_'\n",
    "                                    'max=%s_%s_%s_%s_%s_%s.csv' %\n",
    "                                    (n, m, lambda_max,\n",
    "                                     no_vars,\n",
    "                                     type_inverse,\n",
    "                                     region,\n",
    "                                     function_type,\n",
    "                                     save_outputs),\n",
    "                                    delimiter=',')[i])\n",
    "\n",
    "        func_evals_dir_MP[i, j] = (np.genfromtxt(\n",
    "                                   'func_evals_dir_MP_n=%s_m=%s_lambda'\n",
    "                                   '_max=%s_%s_%s_%s_%s_%s.csv' %\n",
    "                                   (n, m, lambda_max,\n",
    "                                    no_vars,\n",
    "                                    type_inverse,\n",
    "                                    region,\n",
    "                                    function_type,\n",
    "                                    save_outputs),\n",
    "                                   delimiter=',')[i])\n",
    "\n",
    "        fp_norms_XY[i, j] = (np.genfromtxt(\n",
    "                             'fp_norms_XY_n=%s_m=%s_lambda_max=%s'\n",
    "                             '_%s_%s_%s_%s.csv' %\n",
    "                             (n, m, lambda_max,\n",
    "                              no_vars,\n",
    "                              region,\n",
    "                              function_type,\n",
    "                              save_outputs),\n",
    "                             delimiter=',')[i])\n",
    "\n",
    "        fp_func_vals_XY[i, j] = (np.genfromtxt(\n",
    "                                 'fp_func_vals_XY_n=%s_m=%s_lambda_max'\n",
    "                                 '=%s_%s_%s_%s_%s.csv' %\n",
    "                                 (n, m, lambda_max,\n",
    "                                  no_vars,\n",
    "                                  region,\n",
    "                                  function_type,\n",
    "                                  save_outputs),\n",
    "                                 delimiter=',')[i])\n",
    "\n",
    "        func_evals_step_XY[i, j] = (np.genfromtxt(\n",
    "                                    'func_evals_step_XY_n=%s_m=%s_lambda'\n",
    "                                    '_max=%s_%s_%s_%s_%s.csv' %\n",
    "                                    (n, m, lambda_max,\n",
    "                                     no_vars,\n",
    "                                     region,\n",
    "                                     function_type,\n",
    "                                     save_outputs),\n",
    "                                    delimiter=',')[i])\n",
    "\n",
    "        func_evals_dir_XY[i, j] = (np.genfromtxt(\n",
    "                                   'func_evals_dir_XY_n=%s_m=%s_lambda'\n",
    "                                   '_max=%s_%s_%s_%s_%s.csv' %\n",
    "                                   (n, m, lambda_max,\n",
    "                                    no_vars,\n",
    "                                    region,\n",
    "                                    function_type,\n",
    "                                    save_outputs),\n",
    "                                   delimiter=',')[i])\n",
    "\n",
    "        sp_norms[i, j] = (np.genfromtxt(\n",
    "                          'sp_norms_XY_n=%s_m=%s_lambda_max'\n",
    "                          '=%s_%s_%s.csv' %\n",
    "                          (n, m, lambda_max, function_type, save_outputs),\n",
    "                          delimiter=',')[i])\n",
    "\n",
    "        sp_func_vals[i, j] = (np.genfromtxt(\n",
    "                              'sp_func_vals_XY_n=%s_m=%s_lambda_max'\n",
    "                              '=%s_%s_%s.csv' %\n",
    "                              (n, m, lambda_max, function_type,\n",
    "                               save_outputs),\n",
    "                              delimiter=',')[i])\n"
   ]
  },
  {
   "cell_type": "code",
   "execution_count": 63,
   "metadata": {},
   "outputs": [
    {
     "data": {
      "text/plain": [
       "200"
      ]
     },
     "execution_count": 63,
     "metadata": {},
     "output_type": "execute_result"
    }
   ],
   "source": [
    "\n",
    "n_index = 4\n",
    "n = n_list[n_index]\n",
    "snr_index = 3\n",
    "\n",
    "test = (np.genfromtxt(\n",
    "             'fp_norms_MP_n=%s_m=%s_lambda_max=%s_'\n",
    "             '%s_%s_%s_%s_%s.csv' %\n",
    "             (n, m, lambda_max,\n",
    "              no_vars,\n",
    "              type_inverse,\n",
    "              region,\n",
    "              function_type,\n",
    "              save_outputs),\n",
    "             delimiter=','))\n",
    "n"
   ]
  },
  {
   "cell_type": "code",
   "execution_count": 64,
   "metadata": {},
   "outputs": [
    {
     "data": {
      "text/plain": [
       "True"
      ]
     },
     "execution_count": 64,
     "metadata": {},
     "output_type": "execute_result"
    }
   ],
   "source": [
    "np.all(test[snr_index] == fp_norms_MP[snr_index][n_index])"
   ]
  },
  {
   "cell_type": "code",
   "execution_count": 65,
   "metadata": {},
   "outputs": [
    {
     "data": {
      "text/plain": [
       "array([2.00291272, 1.8059324 , 1.78169068, 2.03505798, 1.75468005,\n",
       "       1.93134427, 1.97937495, 1.92477945, 1.93741819, 1.68734184,\n",
       "       1.79161317, 1.75866767, 1.72331636, 2.09711111, 1.73201777,\n",
       "       2.29171549, 1.84984331, 1.90748922, 1.69403757, 1.97754163,\n",
       "       1.90281344, 1.99926407, 1.96899985, 1.88456329, 2.06656443,\n",
       "       2.07250953, 1.76167073, 1.75585307, 2.11062899, 1.96446306,\n",
       "       1.40087771, 1.83303201, 1.62244227, 1.70197526, 1.77595787,\n",
       "       2.0212358 , 1.8983403 , 2.09573593, 1.94124979, 1.96030539,\n",
       "       2.17632514, 2.24461143, 1.54743581, 1.6424265 , 1.83792337,\n",
       "       2.04090103, 1.6527694 , 1.96173203, 1.86404248, 1.72793962,\n",
       "       1.95336654, 2.30949138, 1.74287137, 1.84052229, 1.80443655,\n",
       "       2.07510997, 1.8689252 , 2.04330896, 1.92609449, 1.98899591,\n",
       "       1.78652216, 1.76062132, 2.15658741, 1.50571963, 1.9368096 ,\n",
       "       2.16652492, 1.87605734, 2.25493915, 1.85584498, 1.65333914,\n",
       "       2.06085204, 2.10343007, 1.60091892, 2.14342185, 2.11424913,\n",
       "       1.82821122, 1.81233249, 1.97433847, 2.2357158 , 2.04635735,\n",
       "       1.85204983, 1.85498104, 1.8260213 , 1.6599819 , 1.74779183,\n",
       "       2.18116416, 1.67655903, 1.87656449, 1.67963576, 1.94830029,\n",
       "       2.37868396, 1.67179814, 1.35957317, 1.81808632, 1.96348123,\n",
       "       2.09143532, 1.60795535, 1.96202336, 1.5482222 , 2.27929707])"
      ]
     },
     "execution_count": 65,
     "metadata": {},
     "output_type": "execute_result"
    }
   ],
   "source": [
    "test[snr_index] "
   ]
  },
  {
   "cell_type": "code",
   "execution_count": 67,
   "metadata": {},
   "outputs": [
    {
     "data": {
      "text/plain": [
       "(5, 100)"
      ]
     },
     "execution_count": 67,
     "metadata": {},
     "output_type": "execute_result"
    }
   ],
   "source": [
    "fp_norms_MP[snr_index].shape"
   ]
  },
  {
   "cell_type": "code",
   "execution_count": null,
   "metadata": {},
   "outputs": [],
   "source": []
  },
  {
   "cell_type": "code",
   "execution_count": null,
   "metadata": {},
   "outputs": [],
   "source": []
  },
  {
   "cell_type": "code",
   "execution_count": null,
   "metadata": {},
   "outputs": [],
   "source": []
  },
  {
   "cell_type": "code",
   "execution_count": null,
   "metadata": {},
   "outputs": [],
   "source": []
  },
  {
   "cell_type": "code",
   "execution_count": null,
   "metadata": {},
   "outputs": [],
   "source": []
  },
  {
   "cell_type": "code",
   "execution_count": null,
   "metadata": {},
   "outputs": [],
   "source": []
  },
  {
   "cell_type": "code",
   "execution_count": null,
   "metadata": {},
   "outputs": [],
   "source": []
  },
  {
   "cell_type": "code",
   "execution_count": null,
   "metadata": {},
   "outputs": [],
   "source": []
  }
 ],
 "metadata": {
  "kernelspec": {
   "display_name": "Python 3",
   "language": "python",
   "name": "python3"
  },
  "language_info": {
   "codemirror_mode": {
    "name": "ipython",
    "version": 3
   },
   "file_extension": ".py",
   "mimetype": "text/x-python",
   "name": "python",
   "nbconvert_exporter": "python",
   "pygments_lexer": "ipython3",
   "version": "3.8.5"
  }
 },
 "nbformat": 4,
 "nbformat_minor": 4
}
