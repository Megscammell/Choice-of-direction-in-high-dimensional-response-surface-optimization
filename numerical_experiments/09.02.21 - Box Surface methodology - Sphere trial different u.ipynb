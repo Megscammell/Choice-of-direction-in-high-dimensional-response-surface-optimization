{
 "cells": [
  {
   "cell_type": "code",
   "execution_count": 46,
   "metadata": {
    "scrolled": true
   },
   "outputs": [],
   "source": [
    "import numpy as np\n",
    "import matplotlib.pyplot as plt\n",
    "import scipy\n",
    "from scipy import optimize\n",
    "from mpl_toolkits import mplot3d\n",
    "from statsmodels.formula.api import ols\n",
    "from statsmodels.stats.anova import anova_lm\n",
    "import pandas as pd\n",
    "from matplotlib import rc, animation\n",
    "import statsmodels.api as sm\n",
    "from scipy import stats\n",
    "import est_dir\n",
    "import time\n",
    "import tqdm"
   ]
  },
  {
   "cell_type": "markdown",
   "metadata": {},
   "source": [
    "# General example for RSM"
   ]
  },
  {
   "cell_type": "code",
   "execution_count": 47,
   "metadata": {},
   "outputs": [],
   "source": [
    "m = 100\n",
    "n = 16\n",
    "lambda_2 = 8"
   ]
  },
  {
   "cell_type": "code",
   "execution_count": 48,
   "metadata": {},
   "outputs": [
    {
     "data": {
      "text/plain": [
       "array([12.14062262, 38.3920197 , 54.29451494, 66.49692872])"
      ]
     },
     "execution_count": 48,
     "metadata": {},
     "output_type": "execute_result"
    }
   ],
   "source": [
    "noise_list = np.genfromtxt('noise_list_n=%s_m=%s_lambda_max=%s.csv' %\n",
    "                                (n, m, lambda_2), delimiter=',')\n",
    "noise_list"
   ]
  },
  {
   "cell_type": "code",
   "execution_count": 49,
   "metadata": {},
   "outputs": [
    {
     "data": {
      "text/plain": [
       "12.140622621224393"
      ]
     },
     "execution_count": 49,
     "metadata": {},
     "output_type": "execute_result"
    }
   ],
   "source": [
    "noise_sd = noise_list[0]\n",
    "noise_sd"
   ]
  },
  {
   "cell_type": "code",
   "execution_count": 50,
   "metadata": {
    "scrolled": false
   },
   "outputs": [
    {
     "name": "stderr",
     "output_type": "stream",
     "text": [
      "  6%|████▉                                                                             | 6/100 [00:35<09:22,  5.99s/it]\n",
      "ERROR:root:Internal Python error in the inspect module.\n",
      "Below is the traceback from this internal error.\n",
      "\n",
      "\n",
      "KeyboardInterrupt\n",
      "\n"
     ]
    }
   ],
   "source": [
    "max_func_evals_t_list = [30000, 40000, 50000, 60000,70000,80000]\n",
    "num = 100\n",
    "domain = (0, 5)\n",
    "sp_norms = np.zeros((len(max_func_evals_t_list), num))\n",
    "fp_norms = np.zeros((2, len(max_func_evals_t_list), num))\n",
    "sp_func_vals_noise = np.zeros((2, len(max_func_evals_t_list), num))\n",
    "fp_func_vals_noise = np.zeros((2, len(max_func_evals_t_list), num))\n",
    "sp_func_vals = np.zeros((len(max_func_evals_t_list), num))\n",
    "fp_func_vals = np.zeros((2, len(max_func_evals_t_list), num))\n",
    "time_taken = np.zeros((2, len(max_func_evals_t_list), num))\n",
    "func_evals_step = np.zeros((2, len(max_func_evals_t_list), num)) \n",
    "func_evals_dir = np.zeros((2, len(max_func_evals_t_list), num))\n",
    "no_pos_missed = np.zeros((len(max_func_evals_t_list), num))\n",
    "index = 0\n",
    "for max_func_evals_t in max_func_evals_t_list:\n",
    "    for j in tqdm.tqdm(range(num)):\n",
    "        seed = j * 50\n",
    "        np.random.seed(seed)\n",
    "        f = est_dir.sphere_f_noise\n",
    "        minimizer = np.random.uniform(*domain, (m, ))\n",
    "        centre_point = np.random.uniform(*domain, (m, ))\n",
    "        matrix = est_dir.sphere_func_params(1, lambda_2, m)\n",
    "        sp_norms[index, j] = np.linalg.norm(minimizer - centre_point)\n",
    "        sp_func_vals[index, j] = est_dir.sphere_f(centre_point, minimizer, matrix)\n",
    "        func_args = (minimizer, matrix, 0, noise_sd)\n",
    "                        \n",
    "        np.random.seed(seed + 1)\n",
    "        (upd_point_LS,\n",
    "         sp_func_vals_noise[0, index, j],\n",
    "         fp_func_vals_noise[0, index, j],\n",
    "         full_time_LS,\n",
    "         func_evals_step[0, index, j],\n",
    "         func_evals_dir[0, index, j],\n",
    "         no_its_LS) = est_dir.calc_its_until_sc(centre_point, f, func_args, n, m,\n",
    "                                                              option='LS',\n",
    "                                                              max_func_evals=max_func_evals_t)\n",
    "\n",
    "        fp_norms[0, index, j] = np.linalg.norm(minimizer - upd_point_LS)\n",
    "        fp_func_vals[0, index, j] =  est_dir.sphere_f(upd_point_LS, minimizer, matrix)                                                 \n",
    "        np.random.seed(seed + 1)\n",
    "        (upd_point_XY, \n",
    "         sp_func_vals_noise[1, index, j],\n",
    "         fp_func_vals_noise[1, index, j],\n",
    "         full_time_XY,\n",
    "         func_evals_step[1, index, j],\n",
    "         func_evals_dir[1, index, j],\n",
    "         its_XY) = est_dir.calc_its_until_sc(centre_point, f, func_args, n, m, \n",
    "                                             option='XY',\n",
    "                                             max_func_evals=max_func_evals_t)\n",
    "        fp_norms[1, index, j] = np.linalg.norm(minimizer - upd_point_XY)\n",
    "        fp_func_vals[1, index, j] = est_dir.sphere_f(upd_point_XY, minimizer, matrix)\n",
    "    index += 1"
   ]
  },
  {
   "cell_type": "code",
   "execution_count": null,
   "metadata": {},
   "outputs": [],
   "source": [
    "ticks = max_func_evals_t_list"
   ]
  },
  {
   "cell_type": "code",
   "execution_count": null,
   "metadata": {},
   "outputs": [],
   "source": [
    "import matplotlib.ticker as ticker\n",
    "def set_box_color(bp, color):\n",
    "    plt.setp(bp['boxes'], color=color)\n",
    "    plt.setp(bp['whiskers'], color=color)\n",
    "    plt.setp(bp['caps'], color=color)\n",
    "    plt.setp(bp['medians'], color=color)\n",
    "\n",
    "def create_boxplots(arr1, arr2, arr3, label1, label2, label3, m, n,\n",
    "                    max_func_evals_t, noise_sd,\n",
    "                    title):\n",
    "    plt.figure(figsize=(10, 5))\n",
    "    if title == 'func_vals':\n",
    "        plt.yscale(\"log\")\n",
    "        plt.ylim(0.01, np.max(arr1) + 1000)\n",
    "    bpl = plt.boxplot(arr1.T,\n",
    "                      positions=np.array(range(len(arr1)))*3.0-0.7)\n",
    "    bpc = plt.boxplot(arr2.T,\n",
    "                      positions=np.array(range(len(arr2)))*3.0+0)\n",
    "    bpr = plt.boxplot(arr3.T,\n",
    "                      positions=np.array(range(len(arr3)))*3.0+0.7)\n",
    "    set_box_color(bpl, 'green')\n",
    "    set_box_color(bpc, 'purple')\n",
    "    set_box_color(bpr, 'navy')\n",
    "    plt.plot([], c='green', label=label1)\n",
    "    plt.plot([], c='purple', label=label2)\n",
    "    plt.plot([], c='navy', label=label3)\n",
    "    plt.legend(bbox_to_anchor=(0.99, 1.025), loc='upper left',\n",
    "               prop={'size': 12})\n",
    "    plt.xlabel(r'$u$', size=15)\n",
    "    plt.xticks(np.arange(0, len(ticks) * 3, 3), ticks, size=15)\n",
    "    plt.yticks(fontsize=15)\n",
    "    plt.tight_layout()\n",
    "#     plt.savefig('%s_m_%s_n_%s_func_evals_%s_%s_%s_sd_%s_diff_lambda_max.pdf' %\n",
    "#                 (title, m, n, max_func_evals_t, choice_t, no_vars_t, noise_sd))"
   ]
  },
  {
   "cell_type": "code",
   "execution_count": null,
   "metadata": {},
   "outputs": [],
   "source": [
    "labels = [[r'$||x_1 - x_{*}||$',\n",
    "         r'$||x_{K}^{(LS)} - x_{*}||$',\n",
    "         r'$||x_{K}^{(MY)} - x_{*}||$'],\n",
    "        [r'$f(x_1)$',\n",
    "         r'$f(x_{K}^{(LS)})$',\n",
    "         r'$f(x_{K}^{(MY)})$']]"
   ]
  },
  {
   "cell_type": "code",
   "execution_count": null,
   "metadata": {},
   "outputs": [],
   "source": [
    "create_boxplots(sp_norms, fp_norms[0], fp_norms[1], labels[0][0], labels[0][1], labels[0][2], m, n,\n",
    "                max_func_evals_t, noise_sd, 'norms')"
   ]
  },
  {
   "cell_type": "code",
   "execution_count": null,
   "metadata": {},
   "outputs": [],
   "source": [
    "np.median(fp_norms[1][0])"
   ]
  },
  {
   "cell_type": "code",
   "execution_count": null,
   "metadata": {},
   "outputs": [],
   "source": [
    "np.median(fp_norms[1][1])"
   ]
  },
  {
   "cell_type": "code",
   "execution_count": null,
   "metadata": {},
   "outputs": [],
   "source": [
    "np.median(fp_norms[1][2])"
   ]
  },
  {
   "cell_type": "code",
   "execution_count": null,
   "metadata": {},
   "outputs": [],
   "source": [
    "np.median(fp_norms[1][3])"
   ]
  },
  {
   "cell_type": "code",
   "execution_count": null,
   "metadata": {},
   "outputs": [],
   "source": [
    "create_boxplots(sp_func_vals, fp_func_vals[0], fp_func_vals[1], labels[1][0], labels[1][1], labels[1][2], m, n,\n",
    "                max_func_evals_t, noise_sd, 'func_vals')"
   ]
  },
  {
   "cell_type": "code",
   "execution_count": null,
   "metadata": {},
   "outputs": [],
   "source": []
  },
  {
   "cell_type": "code",
   "execution_count": null,
   "metadata": {},
   "outputs": [],
   "source": [
    "np.median(fp_func_vals[0])"
   ]
  },
  {
   "cell_type": "code",
   "execution_count": null,
   "metadata": {},
   "outputs": [],
   "source": [
    "np.median(fp_func_vals[1][0])"
   ]
  },
  {
   "cell_type": "code",
   "execution_count": null,
   "metadata": {},
   "outputs": [],
   "source": [
    "np.median(fp_func_vals[1][1])"
   ]
  },
  {
   "cell_type": "code",
   "execution_count": null,
   "metadata": {},
   "outputs": [],
   "source": [
    "np.median(fp_func_vals[1][2])"
   ]
  },
  {
   "cell_type": "code",
   "execution_count": null,
   "metadata": {},
   "outputs": [],
   "source": [
    "np.median(fp_func_vals[1][3])"
   ]
  },
  {
   "cell_type": "code",
   "execution_count": 38,
   "metadata": {},
   "outputs": [],
   "source": [
    "ls_func_vals = np.zeros((len(max_func_evals_t_list)))\n",
    "xy_func_vals = np.zeros((len(max_func_evals_t_list)))\n",
    "ls_norms = np.zeros((len(max_func_evals_t_list)))\n",
    "xy_norms = np.zeros((len(max_func_evals_t_list)))\n",
    "for j in range(len(max_func_evals_t_list)):\n",
    "    ls_func_vals[j] = np.median(fp_func_vals[0][j])\n",
    "    xy_func_vals[j] = np.median(fp_func_vals[1][j])\n",
    "    ls_norms[j] = np.median(fp_norms[0][j])\n",
    "    xy_norms[j] = np.median(fp_norms[1][j])"
   ]
  },
  {
   "cell_type": "code",
   "execution_count": 39,
   "metadata": {},
   "outputs": [
    {
     "data": {
      "text/plain": [
       "array([391.65618919, 385.80610322, 385.80162487, 385.80162487,\n",
       "       385.80107915])"
      ]
     },
     "execution_count": 39,
     "metadata": {},
     "output_type": "execute_result"
    }
   ],
   "source": [
    "ls_func_vals"
   ]
  },
  {
   "cell_type": "code",
   "execution_count": 40,
   "metadata": {},
   "outputs": [
    {
     "data": {
      "text/plain": [
       "array([166.5185144 , 163.65326229, 158.66902045, 156.64402994,\n",
       "       156.64402994])"
      ]
     },
     "execution_count": 40,
     "metadata": {},
     "output_type": "execute_result"
    }
   ],
   "source": [
    "xy_func_vals"
   ]
  },
  {
   "cell_type": "code",
   "execution_count": 41,
   "metadata": {},
   "outputs": [
    {
     "data": {
      "text/plain": [
       "array([27.98771305, 27.77790856, 27.77774733, 27.77774733, 27.77772769])"
      ]
     },
     "execution_count": 41,
     "metadata": {},
     "output_type": "execute_result"
    }
   ],
   "source": [
    "ls_norms"
   ]
  },
  {
   "cell_type": "code",
   "execution_count": 42,
   "metadata": {},
   "outputs": [
    {
     "data": {
      "text/plain": [
       "array([18.24929942, 18.09160667, 17.81397957, 17.6999441 , 17.6999441 ])"
      ]
     },
     "execution_count": 42,
     "metadata": {},
     "output_type": "execute_result"
    }
   ],
   "source": [
    "xy_norms"
   ]
  },
  {
   "cell_type": "code",
   "execution_count": null,
   "metadata": {},
   "outputs": [],
   "source": [
    "def set_box_color(bp, color):\n",
    "    plt.setp(bp['boxes'], color=color)\n",
    "    plt.setp(bp['whiskers'], color=color)\n",
    "    plt.setp(bp['caps'], color=color)\n",
    "    plt.setp(bp['medians'], color=color)\n",
    "\n",
    "def create_boxplots_funv_evals(arr1, arr2, m, n, choice_t, noise_sd, option,\n",
    "                               ticks, max_func_evals_t):\n",
    "    plt.figure(figsize=(10, 5))\n",
    "    bpl = plt.boxplot(arr1.T,\n",
    "                      positions=np.array(range(len(arr1)))*2.0-0.4)\n",
    "    bpr = plt.boxplot(arr2.T,\n",
    "                      positions=np.array(range(len(arr2)))*2.0+0.4)\n",
    "    set_box_color(bpl, '#D7191C')\n",
    "    set_box_color(bpr, '#2C7BB6')\n",
    "    plt.plot([], c='#D7191C', label=r'$\\gamma_k$')\n",
    "    plt.plot([], c='#2C7BB6', label=r'$s_k$')\n",
    "    plt.legend(bbox_to_anchor=(0.99, 1.025), loc='upper left',\n",
    "               prop={'size': 15})\n",
    "    plt.xlabel(r'$u$', size=15)\n",
    "    plt.xticks(range(0, len(ticks) * 2, 2), ticks, size=15)\n",
    "    plt.yticks(fontsize=15)\n",
    "    plt.ylim(0, max_func_evals_t)\n",
    "    plt.tight_layout()\n",
    "#     plt.savefig('func_evals_m_%s_n_%s_%s_sd_%s_diff_lambda_max_%s_%s.pdf' %\n",
    "#                 (m, n, choice_t, noise_sd, option, select_var_t))\n",
    "    \n",
    "\n",
    "    "
   ]
  },
  {
   "cell_type": "code",
   "execution_count": null,
   "metadata": {},
   "outputs": [],
   "source": [
    "create_boxplots_funv_evals(func_evals_step[0], func_evals_dir[0], m, n, choice_t, noise_sd, 'LS',\n",
    "                               ticks, max_func_evals_t)"
   ]
  },
  {
   "cell_type": "code",
   "execution_count": null,
   "metadata": {},
   "outputs": [],
   "source": [
    "create_boxplots_funv_evals(func_evals_step[1], func_evals_dir[1],m, n, choice_t, noise_sd, 'XY',\n",
    "                               ticks, max_func_evals_t)"
   ]
  },
  {
   "cell_type": "code",
   "execution_count": null,
   "metadata": {},
   "outputs": [],
   "source": [
    "func_evals_step[0][0] + func_evals_dir[0][0]"
   ]
  },
  {
   "cell_type": "code",
   "execution_count": null,
   "metadata": {},
   "outputs": [],
   "source": [
    "(func_evals_step[1][0] + func_evals_dir[1][0]) - (func_evals_step[0][0] + func_evals_dir[0][0])"
   ]
  },
  {
   "cell_type": "markdown",
   "metadata": {},
   "source": [
    "# NEW"
   ]
  },
  {
   "cell_type": "code",
   "execution_count": null,
   "metadata": {},
   "outputs": [],
   "source": [
    "labels = [[r'$\\frac{||x_{K}^{(LS)} - x_{*}||}{||x_1 - x_{*}||}$',\n",
    "         r'$\\frac{||x_{K}^{(MY)} - x_{*}||}{||x_1 - x_{*}||}$'],\n",
    "        [r'$\\frac{f(x_{K}^{(LS)})}{f(x_1)}$',\n",
    "         r'$\\frac{f(x_{K}^{(MY)})}{f(x_1)}$']]"
   ]
  },
  {
   "cell_type": "code",
   "execution_count": null,
   "metadata": {},
   "outputs": [],
   "source": [
    "import matplotlib.ticker as ticker\n",
    "def set_box_color(bp, color):\n",
    "    plt.setp(bp['boxes'], color=color)\n",
    "    plt.setp(bp['whiskers'], color=color)\n",
    "    plt.setp(bp['caps'], color=color)\n",
    "    plt.setp(bp['medians'], color=color)\n",
    "\n",
    "def create_boxplots_ratio(arr1, arr2, label1, label2, m, n,\n",
    "                            max_func_evals_t, choice_t, no_vars_t, noise_sd,\n",
    "                            title):\n",
    "    plt.figure(figsize=(10, 5))\n",
    "    plt.ylim(0,1)\n",
    "    bpl = plt.boxplot(arr1.T,\n",
    "                      positions=np.array(range(len(arr1)))*2.0-0.4)\n",
    "    bpr = plt.boxplot(arr2.T,\n",
    "                      positions=np.array(range(len(arr2)))*2.0+0.4)\n",
    "    set_box_color(bpl, 'green')\n",
    "    set_box_color(bpr, 'navy')\n",
    "    plt.plot([], c='green', label=label1)\n",
    "    plt.plot([], c='navy', label=label2)\n",
    "    plt.legend(bbox_to_anchor=(0.99, 1.025), loc='upper left',\n",
    "               prop={'size': 17})\n",
    "    plt.xlabel(r'$u$', size=15)\n",
    "    plt.xticks(np.arange(0, len(ticks) * 2, 2), ticks, size=15)\n",
    "    plt.yticks(fontsize=15)\n",
    "    plt.tight_layout()\n",
    "#     plt.savefig('%s_m_%s_n_%s_func_evals_%s_%s_%s_sd_%s_diff_lambda_max.pdf' %\n",
    "#                 (title, m, n, max_func_evals_t, choice_t, no_vars_t, noise_sd))"
   ]
  },
  {
   "cell_type": "code",
   "execution_count": null,
   "metadata": {},
   "outputs": [],
   "source": [
    "create_boxplots_ratio(fp_norms[0] / sp_norms, fp_norms[1] / sp_norms, labels[0][0], labels[0][1], m, n,\n",
    "                max_func_evals_t, choice_t, no_vars_t, noise_sd, 'func_vals')"
   ]
  },
  {
   "cell_type": "code",
   "execution_count": null,
   "metadata": {},
   "outputs": [],
   "source": [
    "create_boxplots_ratio(fp_func_vals[0] / sp_func_vals, fp_func_vals[1] / sp_func_vals, labels[1][0], labels[1][1], m, n,\n",
    "                max_func_evals_t, choice_t, no_vars_t, noise_sd, 'func_vals')"
   ]
  },
  {
   "cell_type": "code",
   "execution_count": null,
   "metadata": {},
   "outputs": [],
   "source": []
  },
  {
   "cell_type": "code",
   "execution_count": null,
   "metadata": {},
   "outputs": [],
   "source": [
    "def create_scatter_plot(arr1, arr2, arr1_title, arr2_title, labels, title, m, n, max_func_evals_t, choice_t,\n",
    "                        no_vars_t, noise_sd):\n",
    "    plt.figure(figsize=(10, 5))\n",
    "    max_num = max(np.max(arr1), np.max(arr2)) + 10\n",
    "    plt.xlim(0, max_num)\n",
    "    plt.ylim(0, max_num)\n",
    "    plt.xlabel(arr1_title, size=15)\n",
    "    plt.ylabel(arr2_title, size=15)\n",
    "    plt.xticks(fontsize=15)\n",
    "    plt.yticks(fontsize=15)\n",
    "    color_list = ['red', 'blue', 'purple', 'green', 'orange']\n",
    "    for j in range(arr1.shape[0]):\n",
    "        plt.scatter(arr1[j], arr2[j], marker='*', color=color_list[j])\n",
    "        plt.plot([], c=color_list[j], label=labels[j])\n",
    "    plt.legend(bbox_to_anchor=(0.99, 1.025), loc='upper left',\n",
    "               prop={'size': 15})\n",
    "    plt.tight_layout()\n",
    "    #     plt.savefig('%s_m_%s_n_%s_func_evals_%s_%s_%s_sd_%s_diff_lambda_max.pdf' %\n",
    "#                 (title, m, n, max_func_evals_t, choice_t, no_vars_t, noise_sd))"
   ]
  },
  {
   "cell_type": "code",
   "execution_count": null,
   "metadata": {},
   "outputs": [],
   "source": [
    "arr_title = [[r'$||x_{K}^{(LS)} - x_{*}||$',\n",
    "             r'$||x_{K}^{(MY)} - x_{*}||$'],\n",
    "            [r'$f(x_{K}^{(LS)})$',\n",
    "             r'$f(x_{K}^{(MY)})$']]"
   ]
  },
  {
   "cell_type": "code",
   "execution_count": null,
   "metadata": {},
   "outputs": [],
   "source": [
    "labels = []\n",
    "for j in range(len(max_func_evals_t_list)):\n",
    "    labels.append(r'$u = %s$' % max_func_evals_t_list[j])\n",
    "title = 'func_vals_scatter'\n",
    "create_scatter_plot(fp_func_vals[0], fp_func_vals[1], arr_title[1][0], arr_title[1][1], labels,\n",
    "                   title, m, n, max_func_evals_t, choice_t, no_vars_t, noise_sd)"
   ]
  },
  {
   "cell_type": "code",
   "execution_count": null,
   "metadata": {},
   "outputs": [],
   "source": [
    "labels = []\n",
    "for j in range(len(max_func_evals_t_list)):\n",
    "    labels.append(r'$u = %s$' % max_func_evals_t_list[j])\n",
    "title = 'func_vals_scatter'\n",
    "create_scatter_plot(fp_norms[0], fp_norms[1], arr_title[0][0], arr_title[0][1], labels,\n",
    "                   title, m, n, max_func_evals_t, choice_t, no_vars_t, noise_sd)"
   ]
  },
  {
   "cell_type": "code",
   "execution_count": null,
   "metadata": {},
   "outputs": [],
   "source": []
  }
 ],
 "metadata": {
  "kernelspec": {
   "display_name": "Python 3",
   "language": "python",
   "name": "python3"
  },
  "language_info": {
   "codemirror_mode": {
    "name": "ipython",
    "version": 3
   },
   "file_extension": ".py",
   "mimetype": "text/x-python",
   "name": "python",
   "nbconvert_exporter": "python",
   "pygments_lexer": "ipython3",
   "version": "3.8.5"
  }
 },
 "nbformat": 4,
 "nbformat_minor": 4
}
